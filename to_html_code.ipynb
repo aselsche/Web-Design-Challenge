{
 "cells": [
  {
   "cell_type": "markdown",
   "id": "533359e4-bede-4b24-9ab2-fa17ba3874a2",
   "metadata": {},
   "source": [
    "***Converting CSV cities data into html form***"
   ]
  },
  {
   "cell_type": "code",
   "execution_count": 7,
   "id": "6f71430a-8ac9-4d12-8e14-6b999e54fc8b",
   "metadata": {},
   "outputs": [],
   "source": [
    "import pandas as pd"
   ]
  },
  {
   "cell_type": "code",
   "execution_count": 4,
   "id": "18120edd-3c63-4cd7-ab15-648a30f80148",
   "metadata": {},
   "outputs": [],
   "source": [
    "# Study data files\n",
    "cities_data_path = \"WebVisualizations/Resources/cities.csv\""
   ]
  },
  {
   "cell_type": "code",
   "execution_count": 20,
   "id": "63537a6a-afac-4782-a3a5-74cd6961be20",
   "metadata": {},
   "outputs": [
    {
     "data": {
      "text/html": [
       "<div>\n",
       "<style scoped>\n",
       "    .dataframe tbody tr th:only-of-type {\n",
       "        vertical-align: middle;\n",
       "    }\n",
       "\n",
       "    .dataframe tbody tr th {\n",
       "        vertical-align: top;\n",
       "    }\n",
       "\n",
       "    .dataframe thead th {\n",
       "        text-align: right;\n",
       "    }\n",
       "</style>\n",
       "<table border=\"1\" class=\"dataframe\">\n",
       "  <thead>\n",
       "    <tr style=\"text-align: right;\">\n",
       "      <th></th>\n",
       "      <th>City</th>\n",
       "      <th>Country</th>\n",
       "      <th>Cloudiness</th>\n",
       "      <th>Humidity</th>\n",
       "      <th>Wind Speed</th>\n",
       "      <th>Max Temp</th>\n",
       "      <th>Lat</th>\n",
       "      <th>Lng</th>\n",
       "    </tr>\n",
       "    <tr>\n",
       "      <th>City_ID</th>\n",
       "      <th></th>\n",
       "      <th></th>\n",
       "      <th></th>\n",
       "      <th></th>\n",
       "      <th></th>\n",
       "      <th></th>\n",
       "      <th></th>\n",
       "      <th></th>\n",
       "    </tr>\n",
       "  </thead>\n",
       "  <tbody>\n",
       "    <tr>\n",
       "      <th>0</th>\n",
       "      <td>jacareacanga</td>\n",
       "      <td>BR</td>\n",
       "      <td>0</td>\n",
       "      <td>62</td>\n",
       "      <td>6.93</td>\n",
       "      <td>89.60</td>\n",
       "      <td>-6.22</td>\n",
       "      <td>-57.76</td>\n",
       "    </tr>\n",
       "    <tr>\n",
       "      <th>1</th>\n",
       "      <td>kaitangata</td>\n",
       "      <td>NZ</td>\n",
       "      <td>100</td>\n",
       "      <td>94</td>\n",
       "      <td>5.64</td>\n",
       "      <td>42.61</td>\n",
       "      <td>-46.28</td>\n",
       "      <td>169.85</td>\n",
       "    </tr>\n",
       "    <tr>\n",
       "      <th>2</th>\n",
       "      <td>goulburn</td>\n",
       "      <td>AU</td>\n",
       "      <td>20</td>\n",
       "      <td>91</td>\n",
       "      <td>10.11</td>\n",
       "      <td>44.32</td>\n",
       "      <td>-34.75</td>\n",
       "      <td>149.72</td>\n",
       "    </tr>\n",
       "  </tbody>\n",
       "</table>\n",
       "</div>"
      ],
      "text/plain": [
       "                 City Country  Cloudiness  Humidity  Wind Speed  Max Temp  \\\n",
       "City_ID                                                                     \n",
       "0        jacareacanga      BR           0        62        6.93     89.60   \n",
       "1          kaitangata      NZ         100        94        5.64     42.61   \n",
       "2            goulburn      AU          20        91       10.11     44.32   \n",
       "\n",
       "           Lat     Lng  \n",
       "City_ID                 \n",
       "0        -6.22  -57.76  \n",
       "1       -46.28  169.85  \n",
       "2       -34.75  149.72  "
      ]
     },
     "execution_count": 20,
     "metadata": {},
     "output_type": "execute_result"
    }
   ],
   "source": [
    "# Read the mouse data and the study results\n",
    "cities_df= pd.read_csv(cities_data_path)\n",
    "\n",
    "cities_df= cities_df[['City_ID', 'City', 'Country', 'Cloudiness', 'Humidity', 'Wind Speed', 'Max Temp', 'Lat', 'Lng']]\n",
    "cities_df.head(3)\n",
    "\n",
    "cities=cities_df.set_index(\"City_ID\")\n",
    "cities.head(3)"
   ]
  },
  {
   "cell_type": "code",
   "execution_count": 31,
   "id": "178ad364-379e-424e-8207-3d682cc7e7b3",
   "metadata": {},
   "outputs": [],
   "source": [
    "cities.to_html('cities_data.html')"
   ]
  }
 ],
 "metadata": {
  "kernelspec": {
   "display_name": "Python 3",
   "language": "python",
   "name": "python3"
  },
  "language_info": {
   "codemirror_mode": {
    "name": "ipython",
    "version": 3
   },
   "file_extension": ".py",
   "mimetype": "text/x-python",
   "name": "python",
   "nbconvert_exporter": "python",
   "pygments_lexer": "ipython3",
   "version": "3.9.5"
  }
 },
 "nbformat": 4,
 "nbformat_minor": 5
}
